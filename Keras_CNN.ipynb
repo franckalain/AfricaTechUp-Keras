{
  "nbformat": 4,
  "nbformat_minor": 0,
  "metadata": {
    "colab": {
      "name": "Keras_CNN.ipynb",
      "version": "0.3.2",
      "provenance": [],
      "collapsed_sections": [],
      "include_colab_link": true
    },
    "kernelspec": {
      "name": "python3",
      "display_name": "Python 3"
    }
  },
  "cells": [
    {
      "cell_type": "markdown",
      "metadata": {
        "id": "view-in-github",
        "colab_type": "text"
      },
      "source": [
        "<a href=\"https://colab.research.google.com/github/franckalain/AfricaTechUp-Keras/blob/master/Keras_CNN.ipynb\" target=\"_parent\"><img src=\"https://colab.research.google.com/assets/colab-badge.svg\" alt=\"Open In Colab\"/></a>"
      ]
    },
    {
      "cell_type": "code",
      "metadata": {
        "id": "kWLnBQ8m7YYK",
        "colab_type": "code",
        "colab": {}
      },
      "source": [
        "from keras.datasets import mnist\n",
        "import numpy as np"
      ],
      "execution_count": 0,
      "outputs": []
    },
    {
      "cell_type": "code",
      "metadata": {
        "id": "ELjzxjnT7pgH",
        "colab_type": "code",
        "colab": {}
      },
      "source": [
        "(X_train, y_train), (X_test, y_test) = mnist.load_data()\n",
        "\n",
        "X_train = X_train.reshape(60000, 784)/255\n",
        "X_test = X_test.reshape(10000, 784)/255"
      ],
      "execution_count": 0,
      "outputs": []
    },
    {
      "cell_type": "code",
      "metadata": {
        "id": "Sk0MWvPaNd_z",
        "colab_type": "code",
        "colab": {}
      },
      "source": [
        ""
      ],
      "execution_count": 0,
      "outputs": []
    },
    {
      "cell_type": "code",
      "metadata": {
        "id": "8OofZwZc9Igu",
        "colab_type": "code",
        "outputId": "57befe1d-ba88-4444-9823-8918e3698592",
        "colab": {
          "base_uri": "https://localhost:8080/",
          "height": 357
        }
      },
      "source": [
        "np.unique(X_train)"
      ],
      "execution_count": 0,
      "outputs": [
        {
          "output_type": "execute_result",
          "data": {
            "text/plain": [
              "array([  0,   1,   2,   3,   4,   5,   6,   7,   8,   9,  10,  11,  12,\n",
              "        13,  14,  15,  16,  17,  18,  19,  20,  21,  22,  23,  24,  25,\n",
              "        26,  27,  28,  29,  30,  31,  32,  33,  34,  35,  36,  37,  38,\n",
              "        39,  40,  41,  42,  43,  44,  45,  46,  47,  48,  49,  50,  51,\n",
              "        52,  53,  54,  55,  56,  57,  58,  59,  60,  61,  62,  63,  64,\n",
              "        65,  66,  67,  68,  69,  70,  71,  72,  73,  74,  75,  76,  77,\n",
              "        78,  79,  80,  81,  82,  83,  84,  85,  86,  87,  88,  89,  90,\n",
              "        91,  92,  93,  94,  95,  96,  97,  98,  99, 100, 101, 102, 103,\n",
              "       104, 105, 106, 107, 108, 109, 110, 111, 112, 113, 114, 115, 116,\n",
              "       117, 118, 119, 120, 121, 122, 123, 124, 125, 126, 127, 128, 129,\n",
              "       130, 131, 132, 133, 134, 135, 136, 137, 138, 139, 140, 141, 142,\n",
              "       143, 144, 145, 146, 147, 148, 149, 150, 151, 152, 153, 154, 155,\n",
              "       156, 157, 158, 159, 160, 161, 162, 163, 164, 165, 166, 167, 168,\n",
              "       169, 170, 171, 172, 173, 174, 175, 176, 177, 178, 179, 180, 181,\n",
              "       182, 183, 184, 185, 186, 187, 188, 189, 190, 191, 192, 193, 194,\n",
              "       195, 196, 197, 198, 199, 200, 201, 202, 203, 204, 205, 206, 207,\n",
              "       208, 209, 210, 211, 212, 213, 214, 215, 216, 217, 218, 219, 220,\n",
              "       221, 222, 223, 224, 225, 226, 227, 228, 229, 230, 231, 232, 233,\n",
              "       234, 235, 236, 237, 238, 239, 240, 241, 242, 243, 244, 245, 246,\n",
              "       247, 248, 249, 250, 251, 252, 253, 254, 255], dtype=uint8)"
            ]
          },
          "metadata": {
            "tags": []
          },
          "execution_count": 42
        }
      ]
    },
    {
      "cell_type": "code",
      "metadata": {
        "id": "DYpvrMnh9tJX",
        "colab_type": "code",
        "outputId": "d1f9c5d2-2afb-4c25-a877-5251c7f98872",
        "colab": {
          "base_uri": "https://localhost:8080/",
          "height": 51
        }
      },
      "source": [
        "import matplotlib.pyplot as plt\n",
        "plt.figure()"
      ],
      "execution_count": 0,
      "outputs": [
        {
          "output_type": "execute_result",
          "data": {
            "text/plain": [
              "<Figure size 432x288 with 0 Axes>"
            ]
          },
          "metadata": {
            "tags": []
          },
          "execution_count": 16
        },
        {
          "output_type": "display_data",
          "data": {
            "text/plain": [
              "<Figure size 432x288 with 0 Axes>"
            ]
          },
          "metadata": {
            "tags": []
          }
        }
      ]
    },
    {
      "cell_type": "code",
      "metadata": {
        "id": "5GnH8i7O_BFI",
        "colab_type": "code",
        "outputId": "41a9fab6-7306-4266-afd5-b2e41b5da03d",
        "colab": {
          "base_uri": "https://localhost:8080/",
          "height": 286
        }
      },
      "source": [
        "plt.imshow(X[0][0])"
      ],
      "execution_count": 0,
      "outputs": [
        {
          "output_type": "execute_result",
          "data": {
            "text/plain": [
              "<matplotlib.image.AxesImage at 0x7fea37a2c860>"
            ]
          },
          "metadata": {
            "tags": []
          },
          "execution_count": 18
        },
        {
          "output_type": "display_data",
          "data": {
            "image/png": "[encoded data removed]",
            "text/plain": [
              "<Figure size 432x288 with 1 Axes>"
            ]
          },
          "metadata": {
            "tags": []
          }
        }
      ]
    },
    {
      "cell_type": "code",
      "metadata": {
        "id": "9xWQoM0W_Fh1",
        "colab_type": "code",
        "colab": {}
      },
      "source": [
        "from keras.models import Sequential"
      ],
      "execution_count": 0,
      "outputs": []
    },
    {
      "cell_type": "code",
      "metadata": {
        "id": "1G6jdJz_CePC",
        "colab_type": "code",
        "colab": {}
      },
      "source": [
        "from keras.layers import Dense"
      ],
      "execution_count": 0,
      "outputs": []
    },
    {
      "cell_type": "code",
      "metadata": {
        "id": "XGNytK3bB25m",
        "colab_type": "code",
        "colab": {}
      },
      "source": [
        "model = Sequential()\n",
        "\n"
      ],
      "execution_count": 0,
      "outputs": []
    },
    {
      "cell_type": "code",
      "metadata": {
        "id": "srefCKKKCMgC",
        "colab_type": "code",
        "colab": {}
      },
      "source": [
        "model.add(Dense(units = 32, activation = 'relu', input_shape = (28 * 28, )))\n",
        "model.add(Dense(units = 10, activation = 'softmax'))"
      ],
      "execution_count": 0,
      "outputs": []
    },
    {
      "cell_type": "markdown",
      "metadata": {
        "id": "CxWygWvnIXv2",
        "colab_type": "text"
      },
      "source": [
        "deux classe, sigmoid\n",
        "\n",
        "multiclasse softmax"
      ]
    },
    {
      "cell_type": "code",
      "metadata": {
        "id": "hnJBTivHIdfL",
        "colab_type": "code",
        "colab": {}
      },
      "source": [
        "model.compile(optimizer = 'rmsprop', loss = 'sparse_categorical_crossentropy', metrics = ['accuracy'])"
      ],
      "execution_count": 0,
      "outputs": []
    },
    {
      "cell_type": "markdown",
      "metadata": {
        "id": "zWSF4Y7lTmpO",
        "colab_type": "text"
      },
      "source": [
        "# **Entrainer notre reseau de neurone**"
      ]
    },
    {
      "cell_type": "code",
      "metadata": {
        "id": "JfcSoS_CT4Gx",
        "colab_type": "code",
        "outputId": "fe259d24-a1cf-4949-c174-b7d8b09c16b3",
        "colab": {
          "base_uri": "https://localhost:8080/",
          "height": 3434
        }
      },
      "source": [
        "\n",
        "history = model.fit(X_train, y_train, batch_size = 64, epochs = 100, validation_split = 0.3)"
      ],
      "execution_count": 0,
      "outputs": [
        {
          "output_type": "stream",
          "text": [
            "Train on 42000 samples, validate on 18000 samples\n",
            "Epoch 1/100\n",
            "42000/42000 [==============================] - 2s 44us/step - loss: 0.4677 - acc: 0.8721 - val_loss: 0.2914 - val_acc: 0.9187\n",
            "Epoch 2/100\n",
            "42000/42000 [==============================] - 2s 36us/step - loss: 0.2531 - acc: 0.9268 - val_loss: 0.2402 - val_acc: 0.9311\n",
            "Epoch 3/100\n",
            "42000/42000 [==============================] - 2s 36us/step - loss: 0.2070 - acc: 0.9402 - val_loss: 0.2178 - val_acc: 0.9379\n",
            "Epoch 4/100\n",
            "42000/42000 [==============================] - 2s 36us/step - loss: 0.1790 - acc: 0.9477 - val_loss: 0.1918 - val_acc: 0.9451\n",
            "Epoch 5/100\n",
            "42000/42000 [==============================] - 2s 36us/step - loss: 0.1585 - acc: 0.9540 - val_loss: 0.1735 - val_acc: 0.9501\n",
            "Epoch 6/100\n",
            "42000/42000 [==============================] - 2s 37us/step - loss: 0.1425 - acc: 0.9576 - val_loss: 0.1715 - val_acc: 0.9496\n",
            "Epoch 7/100\n",
            "42000/42000 [==============================] - 2s 37us/step - loss: 0.1302 - acc: 0.9616 - val_loss: 0.1656 - val_acc: 0.9524\n",
            "Epoch 8/100\n",
            "42000/42000 [==============================] - 2s 37us/step - loss: 0.1207 - acc: 0.9646 - val_loss: 0.1547 - val_acc: 0.9559\n",
            "Epoch 9/100\n",
            "42000/42000 [==============================] - 2s 36us/step - loss: 0.1118 - acc: 0.9667 - val_loss: 0.1491 - val_acc: 0.9583\n",
            "Epoch 10/100\n",
            "42000/42000 [==============================] - 2s 36us/step - loss: 0.1046 - acc: 0.9689 - val_loss: 0.1474 - val_acc: 0.9579\n",
            "Epoch 11/100\n",
            "42000/42000 [==============================] - 2s 37us/step - loss: 0.0985 - acc: 0.9709 - val_loss: 0.1516 - val_acc: 0.9586\n",
            "Epoch 12/100\n",
            "42000/42000 [==============================] - 2s 38us/step - loss: 0.0931 - acc: 0.9722 - val_loss: 0.1462 - val_acc: 0.9593\n",
            "Epoch 13/100\n",
            "42000/42000 [==============================] - 2s 38us/step - loss: 0.0877 - acc: 0.9744 - val_loss: 0.1477 - val_acc: 0.9585\n",
            "Epoch 14/100\n",
            "42000/42000 [==============================] - 2s 38us/step - loss: 0.0835 - acc: 0.9753 - val_loss: 0.1450 - val_acc: 0.9603\n",
            "Epoch 15/100\n",
            "42000/42000 [==============================] - 2s 38us/step - loss: 0.0788 - acc: 0.9765 - val_loss: 0.1474 - val_acc: 0.9600\n",
            "Epoch 16/100\n",
            "42000/42000 [==============================] - 2s 38us/step - loss: 0.0758 - acc: 0.9784 - val_loss: 0.1527 - val_acc: 0.9575\n",
            "Epoch 17/100\n",
            "42000/42000 [==============================] - 2s 38us/step - loss: 0.0727 - acc: 0.9789 - val_loss: 0.1495 - val_acc: 0.9590\n",
            "Epoch 18/100\n",
            "42000/42000 [==============================] - 2s 38us/step - loss: 0.0693 - acc: 0.9797 - val_loss: 0.1488 - val_acc: 0.9609\n",
            "Epoch 19/100\n",
            "42000/42000 [==============================] - 2s 38us/step - loss: 0.0667 - acc: 0.9802 - val_loss: 0.1488 - val_acc: 0.9602\n",
            "Epoch 20/100\n",
            "42000/42000 [==============================] - 2s 38us/step - loss: 0.0639 - acc: 0.9814 - val_loss: 0.1505 - val_acc: 0.9595\n",
            "Epoch 21/100\n",
            "42000/42000 [==============================] - 2s 38us/step - loss: 0.0617 - acc: 0.9824 - val_loss: 0.1524 - val_acc: 0.9603\n",
            "Epoch 22/100\n",
            "42000/42000 [==============================] - 2s 38us/step - loss: 0.0592 - acc: 0.9829 - val_loss: 0.1550 - val_acc: 0.9597\n",
            "Epoch 23/100\n",
            "42000/42000 [==============================] - 2s 38us/step - loss: 0.0569 - acc: 0.9834 - val_loss: 0.1555 - val_acc: 0.9607\n",
            "Epoch 24/100\n",
            "42000/42000 [==============================] - 2s 38us/step - loss: 0.0550 - acc: 0.9839 - val_loss: 0.1562 - val_acc: 0.9587\n",
            "Epoch 25/100\n",
            "42000/42000 [==============================] - 2s 38us/step - loss: 0.0525 - acc: 0.9849 - val_loss: 0.1567 - val_acc: 0.9603\n",
            "Epoch 26/100\n",
            "42000/42000 [==============================] - 2s 38us/step - loss: 0.0517 - acc: 0.9854 - val_loss: 0.1529 - val_acc: 0.9610\n",
            "Epoch 27/100\n",
            "42000/42000 [==============================] - 2s 38us/step - loss: 0.0491 - acc: 0.9860 - val_loss: 0.1596 - val_acc: 0.9591\n",
            "Epoch 28/100\n",
            "42000/42000 [==============================] - 2s 38us/step - loss: 0.0472 - acc: 0.9865 - val_loss: 0.1617 - val_acc: 0.9602\n",
            "Epoch 29/100\n",
            "42000/42000 [==============================] - 2s 39us/step - loss: 0.0465 - acc: 0.9869 - val_loss: 0.1700 - val_acc: 0.9587\n",
            "Epoch 30/100\n",
            "42000/42000 [==============================] - 2s 39us/step - loss: 0.0451 - acc: 0.9874 - val_loss: 0.1640 - val_acc: 0.9608\n",
            "Epoch 31/100\n",
            "42000/42000 [==============================] - 2s 38us/step - loss: 0.0430 - acc: 0.9879 - val_loss: 0.1657 - val_acc: 0.9609\n",
            "Epoch 32/100\n",
            "42000/42000 [==============================] - 2s 38us/step - loss: 0.0424 - acc: 0.9878 - val_loss: 0.1707 - val_acc: 0.9602\n",
            "Epoch 33/100\n",
            "42000/42000 [==============================] - 2s 38us/step - loss: 0.0405 - acc: 0.9890 - val_loss: 0.1709 - val_acc: 0.9605\n",
            "Epoch 34/100\n",
            "42000/42000 [==============================] - 2s 38us/step - loss: 0.0393 - acc: 0.9887 - val_loss: 0.1745 - val_acc: 0.9612\n",
            "Epoch 35/100\n",
            "42000/42000 [==============================] - 2s 38us/step - loss: 0.0383 - acc: 0.9895 - val_loss: 0.1730 - val_acc: 0.9614\n",
            "Epoch 36/100\n",
            "42000/42000 [==============================] - 2s 38us/step - loss: 0.0362 - acc: 0.9899 - val_loss: 0.1819 - val_acc: 0.9603\n",
            "Epoch 37/100\n",
            "42000/42000 [==============================] - 2s 38us/step - loss: 0.0357 - acc: 0.9902 - val_loss: 0.1746 - val_acc: 0.9621\n",
            "Epoch 38/100\n",
            "42000/42000 [==============================] - 2s 38us/step - loss: 0.0344 - acc: 0.9906 - val_loss: 0.1792 - val_acc: 0.9609\n",
            "Epoch 39/100\n",
            "42000/42000 [==============================] - 2s 38us/step - loss: 0.0332 - acc: 0.9907 - val_loss: 0.1796 - val_acc: 0.9608\n",
            "Epoch 40/100\n",
            "42000/42000 [==============================] - 2s 38us/step - loss: 0.0325 - acc: 0.9908 - val_loss: 0.1827 - val_acc: 0.9609\n",
            "Epoch 41/100\n",
            "42000/42000 [==============================] - 2s 38us/step - loss: 0.0312 - acc: 0.9913 - val_loss: 0.1878 - val_acc: 0.9604\n",
            "Epoch 42/100\n",
            "42000/42000 [==============================] - 2s 39us/step - loss: 0.0307 - acc: 0.9916 - val_loss: 0.1835 - val_acc: 0.9609\n",
            "Epoch 43/100\n",
            "42000/42000 [==============================] - 2s 39us/step - loss: 0.0297 - acc: 0.9916 - val_loss: 0.1970 - val_acc: 0.9589\n",
            "Epoch 44/100\n",
            "42000/42000 [==============================] - 2s 38us/step - loss: 0.0279 - acc: 0.9925 - val_loss: 0.1881 - val_acc: 0.9597\n",
            "Epoch 45/100\n",
            "42000/42000 [==============================] - 2s 38us/step - loss: 0.0281 - acc: 0.9924 - val_loss: 0.1903 - val_acc: 0.9601\n",
            "Epoch 46/100\n",
            "42000/42000 [==============================] - 2s 39us/step - loss: 0.0267 - acc: 0.9929 - val_loss: 0.1958 - val_acc: 0.9594\n",
            "Epoch 47/100\n",
            "42000/42000 [==============================] - 2s 42us/step - loss: 0.0264 - acc: 0.9930 - val_loss: 0.1964 - val_acc: 0.9590\n",
            "Epoch 48/100\n",
            "42000/42000 [==============================] - 2s 41us/step - loss: 0.0248 - acc: 0.9931 - val_loss: 0.2013 - val_acc: 0.9593\n",
            "Epoch 49/100\n",
            "42000/42000 [==============================] - 2s 42us/step - loss: 0.0244 - acc: 0.9935 - val_loss: 0.2080 - val_acc: 0.9584\n",
            "Epoch 50/100\n",
            "42000/42000 [==============================] - 2s 38us/step - loss: 0.0240 - acc: 0.9934 - val_loss: 0.2040 - val_acc: 0.9601\n",
            "Epoch 51/100\n",
            "42000/42000 [==============================] - 2s 38us/step - loss: 0.0232 - acc: 0.9938 - val_loss: 0.2066 - val_acc: 0.9597\n",
            "Epoch 52/100\n",
            "42000/42000 [==============================] - 2s 38us/step - loss: 0.0228 - acc: 0.9939 - val_loss: 0.2089 - val_acc: 0.9594\n",
            "Epoch 53/100\n",
            "42000/42000 [==============================] - 2s 37us/step - loss: 0.0215 - acc: 0.9942 - val_loss: 0.2132 - val_acc: 0.9582\n",
            "Epoch 54/100\n",
            "42000/42000 [==============================] - 2s 37us/step - loss: 0.0211 - acc: 0.9946 - val_loss: 0.2129 - val_acc: 0.9590\n",
            "Epoch 55/100\n",
            "42000/42000 [==============================] - 2s 36us/step - loss: 0.0208 - acc: 0.9943 - val_loss: 0.2191 - val_acc: 0.9580\n",
            "Epoch 56/100\n",
            "42000/42000 [==============================] - 1s 36us/step - loss: 0.0201 - acc: 0.9954 - val_loss: 0.2211 - val_acc: 0.9583\n",
            "Epoch 57/100\n",
            "42000/42000 [==============================] - 2s 37us/step - loss: 0.0195 - acc: 0.9947 - val_loss: 0.2190 - val_acc: 0.9579\n",
            "Epoch 58/100\n",
            "42000/42000 [==============================] - 2s 37us/step - loss: 0.0187 - acc: 0.9953 - val_loss: 0.2169 - val_acc: 0.9585\n",
            "Epoch 59/100\n",
            "42000/42000 [==============================] - 2s 37us/step - loss: 0.0188 - acc: 0.9952 - val_loss: 0.2238 - val_acc: 0.9587\n",
            "Epoch 60/100\n",
            "42000/42000 [==============================] - 2s 37us/step - loss: 0.0180 - acc: 0.9953 - val_loss: 0.2260 - val_acc: 0.9582\n",
            "Epoch 61/100\n",
            "42000/42000 [==============================] - 2s 37us/step - loss: 0.0174 - acc: 0.9956 - val_loss: 0.2337 - val_acc: 0.9564\n",
            "Epoch 62/100\n",
            "42000/42000 [==============================] - 2s 37us/step - loss: 0.0168 - acc: 0.9953 - val_loss: 0.2396 - val_acc: 0.9572\n",
            "Epoch 63/100\n",
            "42000/42000 [==============================] - 2s 37us/step - loss: 0.0159 - acc: 0.9960 - val_loss: 0.2337 - val_acc: 0.9585\n",
            "Epoch 64/100\n",
            "42000/42000 [==============================] - 2s 39us/step - loss: 0.0157 - acc: 0.9961 - val_loss: 0.2336 - val_acc: 0.9582\n",
            "Epoch 65/100\n",
            "42000/42000 [==============================] - 2s 39us/step - loss: 0.0153 - acc: 0.9961 - val_loss: 0.2350 - val_acc: 0.9590\n",
            "Epoch 66/100\n",
            "42000/42000 [==============================] - 2s 39us/step - loss: 0.0147 - acc: 0.9965 - val_loss: 0.2431 - val_acc: 0.9579\n",
            "Epoch 67/100\n",
            "42000/42000 [==============================] - 2s 39us/step - loss: 0.0146 - acc: 0.9963 - val_loss: 0.2421 - val_acc: 0.9579\n",
            "Epoch 68/100\n",
            "42000/42000 [==============================] - 2s 39us/step - loss: 0.0140 - acc: 0.9967 - val_loss: 0.2452 - val_acc: 0.9573\n",
            "Epoch 69/100\n",
            "42000/42000 [==============================] - 2s 42us/step - loss: 0.0133 - acc: 0.9969 - val_loss: 0.2474 - val_acc: 0.9577\n",
            "Epoch 70/100\n",
            "42000/42000 [==============================] - 2s 42us/step - loss: 0.0130 - acc: 0.9965 - val_loss: 0.2585 - val_acc: 0.9556\n",
            "Epoch 71/100\n",
            "42000/42000 [==============================] - 2s 41us/step - loss: 0.0123 - acc: 0.9971 - val_loss: 0.2519 - val_acc: 0.9573\n",
            "Epoch 72/100\n",
            "42000/42000 [==============================] - 2s 41us/step - loss: 0.0120 - acc: 0.9972 - val_loss: 0.2518 - val_acc: 0.9577\n",
            "Epoch 73/100\n",
            "42000/42000 [==============================] - 2s 41us/step - loss: 0.0118 - acc: 0.9968 - val_loss: 0.2586 - val_acc: 0.9569\n",
            "Epoch 74/100\n",
            "42000/42000 [==============================] - 2s 39us/step - loss: 0.0119 - acc: 0.9971 - val_loss: 0.2689 - val_acc: 0.9552\n",
            "Epoch 75/100\n",
            "42000/42000 [==============================] - 2s 36us/step - loss: 0.0110 - acc: 0.9973 - val_loss: 0.2589 - val_acc: 0.9579\n",
            "Epoch 76/100\n",
            "42000/42000 [==============================] - 2s 36us/step - loss: 0.0111 - acc: 0.9973 - val_loss: 0.2619 - val_acc: 0.9574\n",
            "Epoch 77/100\n",
            "42000/42000 [==============================] - 2s 36us/step - loss: 0.0106 - acc: 0.9976 - val_loss: 0.2690 - val_acc: 0.9568\n",
            "Epoch 78/100\n",
            "42000/42000 [==============================] - 2s 37us/step - loss: 0.0098 - acc: 0.9978 - val_loss: 0.2689 - val_acc: 0.9563\n",
            "Epoch 79/100\n",
            "42000/42000 [==============================] - 2s 39us/step - loss: 0.0099 - acc: 0.9976 - val_loss: 0.2699 - val_acc: 0.9573\n",
            "Epoch 80/100\n",
            "42000/42000 [==============================] - 2s 39us/step - loss: 0.0095 - acc: 0.9980 - val_loss: 0.2720 - val_acc: 0.9568\n",
            "Epoch 81/100\n",
            "42000/42000 [==============================] - 2s 39us/step - loss: 0.0094 - acc: 0.9979 - val_loss: 0.2777 - val_acc: 0.9564\n",
            "Epoch 82/100\n",
            "42000/42000 [==============================] - 2s 38us/step - loss: 0.0090 - acc: 0.9979 - val_loss: 0.2775 - val_acc: 0.9569\n",
            "Epoch 83/100\n",
            "42000/42000 [==============================] - 2s 38us/step - loss: 0.0085 - acc: 0.9981 - val_loss: 0.2810 - val_acc: 0.9562\n",
            "Epoch 84/100\n",
            "42000/42000 [==============================] - 2s 38us/step - loss: 0.0083 - acc: 0.9983 - val_loss: 0.2831 - val_acc: 0.9562\n",
            "Epoch 85/100\n",
            "42000/42000 [==============================] - 2s 37us/step - loss: 0.0082 - acc: 0.9983 - val_loss: 0.2833 - val_acc: 0.9566\n",
            "Epoch 86/100\n",
            "42000/42000 [==============================] - 2s 36us/step - loss: 0.0079 - acc: 0.9983 - val_loss: 0.2909 - val_acc: 0.9556\n",
            "Epoch 87/100\n",
            "42000/42000 [==============================] - 2s 37us/step - loss: 0.0072 - acc: 0.9987 - val_loss: 0.2879 - val_acc: 0.9562\n",
            "Epoch 88/100\n",
            "42000/42000 [==============================] - 2s 37us/step - loss: 0.0074 - acc: 0.9983 - val_loss: 0.2889 - val_acc: 0.9572\n",
            "Epoch 89/100\n",
            "42000/42000 [==============================] - 2s 38us/step - loss: 0.0071 - acc: 0.9984 - val_loss: 0.2914 - val_acc: 0.9564\n",
            "Epoch 90/100\n",
            "42000/42000 [==============================] - 2s 38us/step - loss: 0.0068 - acc: 0.9984 - val_loss: 0.2950 - val_acc: 0.9573\n",
            "Epoch 91/100\n",
            "42000/42000 [==============================] - 2s 38us/step - loss: 0.0067 - acc: 0.9986 - val_loss: 0.2943 - val_acc: 0.9561\n",
            "Epoch 92/100\n",
            "42000/42000 [==============================] - 2s 38us/step - loss: 0.0064 - acc: 0.9987 - val_loss: 0.2929 - val_acc: 0.9570\n",
            "Epoch 93/100\n",
            "42000/42000 [==============================] - 2s 39us/step - loss: 0.0065 - acc: 0.9986 - val_loss: 0.2977 - val_acc: 0.9572\n",
            "Epoch 94/100\n",
            "42000/42000 [==============================] - 2s 39us/step - loss: 0.0060 - acc: 0.9986 - val_loss: 0.3020 - val_acc: 0.9567\n",
            "Epoch 95/100\n",
            "42000/42000 [==============================] - 2s 39us/step - loss: 0.0062 - acc: 0.9988 - val_loss: 0.3114 - val_acc: 0.9563\n",
            "Epoch 96/100\n",
            "42000/42000 [==============================] - 2s 38us/step - loss: 0.0058 - acc: 0.9988 - val_loss: 0.3043 - val_acc: 0.9563\n",
            "Epoch 97/100\n",
            "42000/42000 [==============================] - 2s 37us/step - loss: 0.0057 - acc: 0.9989 - val_loss: 0.3106 - val_acc: 0.9552\n",
            "Epoch 98/100\n",
            "42000/42000 [==============================] - 2s 38us/step - loss: 0.0051 - acc: 0.9991 - val_loss: 0.3166 - val_acc: 0.9551\n",
            "Epoch 99/100\n",
            "42000/42000 [==============================] - 2s 38us/step - loss: 0.0052 - acc: 0.9991 - val_loss: 0.3101 - val_acc: 0.9558\n",
            "Epoch 100/100\n",
            "42000/42000 [==============================] - 2s 39us/step - loss: 0.0051 - acc: 0.9990 - val_loss: 0.3164 - val_acc: 0.9554\n"
          ],
          "name": "stdout"
        }
      ]
    },
    {
      "cell_type": "code",
      "metadata": {
        "id": "eaxpSHG2YTiD",
        "colab_type": "code",
        "outputId": "e51e86c6-1124-49a7-f7c4-41653cd9772a",
        "colab": {
          "base_uri": "https://localhost:8080/",
          "height": 6817
        }
      },
      "source": [
        "history.history"
      ],
      "execution_count": 0,
      "outputs": [
        {
          "output_type": "execute_result",
          "data": {
            "text/plain": [
              "{'acc': [0.8720714285714286,\n",
              "  0.9268333333333333,\n",
              "  0.9401666666666667,\n",
              "  0.9477380952380953,\n",
              "  0.954047619047619,\n",
              "  0.957595238095238,\n",
              "  0.9615714285714285,\n",
              "  0.9645714285714285,\n",
              "  0.9667380952380953,\n",
              "  0.9688809523809524,\n",
              "  0.9708809523809524,\n",
              "  0.9722380952380952,\n",
              "  0.9743571428571428,\n",
              "  0.9752857142857143,\n",
              "  0.9765,\n",
              "  0.9784047619047619,\n",
              "  0.9788809523809524,\n",
              "  0.9797380952380952,\n",
              "  0.9802380952380952,\n",
              "  0.9813809523809524,\n",
              "  0.9823809523809524,\n",
              "  0.9828809523809524,\n",
              "  0.9833571428571428,\n",
              "  0.983904761904762,\n",
              "  0.984904761904762,\n",
              "  0.9853809523809524,\n",
              "  0.9859761904761905,\n",
              "  0.986452380952381,\n",
              "  0.986904761904762,\n",
              "  0.9873571428571428,\n",
              "  0.9879285714285714,\n",
              "  0.9878095238095238,\n",
              "  0.9889761904761905,\n",
              "  0.9886904761904762,\n",
              "  0.989452380952381,\n",
              "  0.9899285714285714,\n",
              "  0.9902142857142857,\n",
              "  0.9905714285714285,\n",
              "  0.9907142857142858,\n",
              "  0.9907857142857143,\n",
              "  0.9912619047619048,\n",
              "  0.9916190476190476,\n",
              "  0.9916190476190476,\n",
              "  0.992547619047619,\n",
              "  0.9923571428571428,\n",
              "  0.992904761904762,\n",
              "  0.9929761904761905,\n",
              "  0.9931190476190476,\n",
              "  0.9934761904761905,\n",
              "  0.9933571428571428,\n",
              "  0.9938095238095238,\n",
              "  0.993904761904762,\n",
              "  0.9942380952380953,\n",
              "  0.9946428571428572,\n",
              "  0.9942857142857143,\n",
              "  0.9954047619047619,\n",
              "  0.9947380952380952,\n",
              "  0.9952619047619048,\n",
              "  0.9952142857142857,\n",
              "  0.9952857142857143,\n",
              "  0.9956428571428572,\n",
              "  0.9953095238095238,\n",
              "  0.9959761904761905,\n",
              "  0.9961428571428571,\n",
              "  0.9960714285714286,\n",
              "  0.9964761904761905,\n",
              "  0.9963333333333333,\n",
              "  0.9966666666666667,\n",
              "  0.9968571428571429,\n",
              "  0.996547619047619,\n",
              "  0.9971428571428571,\n",
              "  0.9972142857142857,\n",
              "  0.9968095238095238,\n",
              "  0.9971428571428571,\n",
              "  0.9972857142857143,\n",
              "  0.9972619047619048,\n",
              "  0.9975714285714286,\n",
              "  0.9977619047619047,\n",
              "  0.9975952380952381,\n",
              "  0.9979523809523809,\n",
              "  0.9978809523809524,\n",
              "  0.9979285714285714,\n",
              "  0.9980952380952381,\n",
              "  0.9983333333333333,\n",
              "  0.9982619047619048,\n",
              "  0.9983333333333333,\n",
              "  0.9986666666666667,\n",
              "  0.9983333333333333,\n",
              "  0.9983809523809524,\n",
              "  0.9984047619047619,\n",
              "  0.9986190476190476,\n",
              "  0.9987380952380952,\n",
              "  0.9986190476190476,\n",
              "  0.9986190476190476,\n",
              "  0.9987619047619047,\n",
              "  0.9988095238095238,\n",
              "  0.9988571428571429,\n",
              "  0.9991428571428571,\n",
              "  0.9991428571428571,\n",
              "  0.9989761904761905],\n",
              " 'loss': [0.4676732024238223,\n",
              "  0.2530649955897104,\n",
              "  0.2069991027031626,\n",
              "  0.17897474298306873,\n",
              "  0.15852463763952254,\n",
              "  0.14245899115857624,\n",
              "  0.13023848127751123,\n",
              "  0.1206874691013779,\n",
              "  0.11182162182955514,\n",
              "  0.10461052524901572,\n",
              "  0.09848934194019862,\n",
              "  0.0930587497076818,\n",
              "  0.08767009383227144,\n",
              "  0.08347938009032181,\n",
              "  0.07883773655391166,\n",
              "  0.07579955180060295,\n",
              "  0.07267512243347508,\n",
              "  0.0693300655704169,\n",
              "  0.06673242280916089,\n",
              "  0.06391004914151771,\n",
              "  0.061716050524796756,\n",
              "  0.05915388344192789,\n",
              "  0.056920847270105566,\n",
              "  0.055033651643565724,\n",
              "  0.052498662006996925,\n",
              "  0.05170767048431472,\n",
              "  0.049051844840958,\n",
              "  0.04719098711936247,\n",
              "  0.04647103418658177,\n",
              "  0.04505039051175117,\n",
              "  0.04299482328471328,\n",
              "  0.04241631524300291,\n",
              "  0.04052924311036865,\n",
              "  0.039273911283218436,\n",
              "  0.038257474997746094,\n",
              "  0.03622520327683361,\n",
              "  0.03569985520626817,\n",
              "  0.034391765265681204,\n",
              "  0.03316595430002504,\n",
              "  0.032527942406368394,\n",
              "  0.031200546654473457,\n",
              "  0.030746612225326576,\n",
              "  0.02966726463004237,\n",
              "  0.02794757957592429,\n",
              "  0.028135579602216326,\n",
              "  0.026749468272108407,\n",
              "  0.02637907075336469,\n",
              "  0.024834348181639578,\n",
              "  0.02441739387273611,\n",
              "  0.02404366028468524,\n",
              "  0.023220850171343912,\n",
              "  0.022843313253529014,\n",
              "  0.021519101463923496,\n",
              "  0.02111224908128913,\n",
              "  0.020762643762198944,\n",
              "  0.020149684119614816,\n",
              "  0.019464959486944107,\n",
              "  0.018653842713861238,\n",
              "  0.018798127742195945,\n",
              "  0.0180068799145298,\n",
              "  0.017411890051880617,\n",
              "  0.016757522788619444,\n",
              "  0.015902560954203917,\n",
              "  0.015732551283247413,\n",
              "  0.01526007127655404,\n",
              "  0.01465401798971219,\n",
              "  0.014553351296023243,\n",
              "  0.013973319746287806,\n",
              "  0.013268796757789372,\n",
              "  0.012974363010908875,\n",
              "  0.012348574881497328,\n",
              "  0.011993390639356914,\n",
              "  0.011762413335354289,\n",
              "  0.011862917664011808,\n",
              "  0.01096843215211716,\n",
              "  0.011082334547338264,\n",
              "  0.010649444432485672,\n",
              "  0.009783771165467832,\n",
              "  0.009908534569538286,\n",
              "  0.009489043647503768,\n",
              "  0.00942045125805418,\n",
              "  0.009004923557718507,\n",
              "  0.008473336197690862,\n",
              "  0.008333617478024236,\n",
              "  0.008159263383064259,\n",
              "  0.007892683224586238,\n",
              "  0.007192910021525763,\n",
              "  0.007399685557378689,\n",
              "  0.007103317306654173,\n",
              "  0.006803430588367129,\n",
              "  0.006714210529609339,\n",
              "  0.0064474555951906255,\n",
              "  0.006475758167125085,\n",
              "  0.0060289155446891,\n",
              "  0.006169306946987663,\n",
              "  0.005768898110633017,\n",
              "  0.005726033204922541,\n",
              "  0.005138641004644645,\n",
              "  0.005170081848047283,\n",
              "  0.00511612931198137],\n",
              " 'val_acc': [0.9187222222222222,\n",
              "  0.9310555555555555,\n",
              "  0.9378888888888889,\n",
              "  0.9451111111111111,\n",
              "  0.9500555555555555,\n",
              "  0.9496111111111111,\n",
              "  0.9523888888888888,\n",
              "  0.9558888888888889,\n",
              "  0.9583333333333334,\n",
              "  0.9579444444444445,\n",
              "  0.9586111111111111,\n",
              "  0.9592777777777778,\n",
              "  0.9585,\n",
              "  0.9602777777777778,\n",
              "  0.96,\n",
              "  0.9575,\n",
              "  0.959,\n",
              "  0.9608888888888889,\n",
              "  0.9602222222222222,\n",
              "  0.9595,\n",
              "  0.9603333333333334,\n",
              "  0.9596666666666667,\n",
              "  0.9606666666666667,\n",
              "  0.9587222222222223,\n",
              "  0.9603333333333334,\n",
              "  0.961,\n",
              "  0.9591111111111111,\n",
              "  0.9602222222222222,\n",
              "  0.9587222222222223,\n",
              "  0.9607777777777777,\n",
              "  0.9609444444444445,\n",
              "  0.9601666666666666,\n",
              "  0.9605,\n",
              "  0.9612222222222222,\n",
              "  0.9614444444444444,\n",
              "  0.9602777777777778,\n",
              "  0.9621111111111111,\n",
              "  0.9608888888888889,\n",
              "  0.9608333333333333,\n",
              "  0.9608888888888889,\n",
              "  0.9603888888888888,\n",
              "  0.9609444444444445,\n",
              "  0.9589444444444445,\n",
              "  0.9596666666666667,\n",
              "  0.9601111111111111,\n",
              "  0.9594444444444444,\n",
              "  0.959,\n",
              "  0.9592777777777778,\n",
              "  0.9583888888888888,\n",
              "  0.9601111111111111,\n",
              "  0.9596666666666667,\n",
              "  0.9593888888888888,\n",
              "  0.9581666666666667,\n",
              "  0.959,\n",
              "  0.958,\n",
              "  0.9583333333333334,\n",
              "  0.9578888888888889,\n",
              "  0.9585,\n",
              "  0.9586666666666667,\n",
              "  0.9582222222222222,\n",
              "  0.9564444444444444,\n",
              "  0.9572222222222222,\n",
              "  0.9585,\n",
              "  0.9581666666666667,\n",
              "  0.959,\n",
              "  0.9578888888888889,\n",
              "  0.9578888888888889,\n",
              "  0.9573333333333334,\n",
              "  0.9577222222222223,\n",
              "  0.9555555555555556,\n",
              "  0.9572777777777778,\n",
              "  0.9577222222222223,\n",
              "  0.9568888888888889,\n",
              "  0.9551666666666667,\n",
              "  0.9579444444444445,\n",
              "  0.9574444444444444,\n",
              "  0.9568333333333333,\n",
              "  0.9562777777777778,\n",
              "  0.9572777777777778,\n",
              "  0.9568333333333333,\n",
              "  0.9563888888888888,\n",
              "  0.9568888888888889,\n",
              "  0.9562222222222222,\n",
              "  0.9562222222222222,\n",
              "  0.9566111111111111,\n",
              "  0.9555555555555556,\n",
              "  0.9561666666666667,\n",
              "  0.9572222222222222,\n",
              "  0.9564444444444444,\n",
              "  0.9572777777777778,\n",
              "  0.9561111111111111,\n",
              "  0.957,\n",
              "  0.9571666666666667,\n",
              "  0.9566666666666667,\n",
              "  0.9562777777777778,\n",
              "  0.9563333333333334,\n",
              "  0.9551666666666667,\n",
              "  0.9550555555555555,\n",
              "  0.9557777777777777,\n",
              "  0.9554444444444444],\n",
              " 'val_loss': [0.2914230419231786,\n",
              "  0.24024117950598398,\n",
              "  0.21775103313393063,\n",
              "  0.19177761940326957,\n",
              "  0.17349000098970202,\n",
              "  0.1715457140935792,\n",
              "  0.16561828504502774,\n",
              "  0.15470817076663176,\n",
              "  0.14912881641834974,\n",
              "  0.14740420892586312,\n",
              "  0.15163751172522705,\n",
              "  0.14622737466626698,\n",
              "  0.1477189601626661,\n",
              "  0.14497610872404443,\n",
              "  0.14744852996369204,\n",
              "  0.15267353833963473,\n",
              "  0.1494911907373203,\n",
              "  0.14877243957502975,\n",
              "  0.14880547912915548,\n",
              "  0.15051257126405834,\n",
              "  0.15243039558952054,\n",
              "  0.15501239853890406,\n",
              "  0.15546878995953334,\n",
              "  0.15624842238219247,\n",
              "  0.15670661287299462,\n",
              "  0.15289087533412707,\n",
              "  0.15960964778686562,\n",
              "  0.16170615996668736,\n",
              "  0.17002749786981278,\n",
              "  0.1640379527144962,\n",
              "  0.16569858866888615,\n",
              "  0.1706611008503371,\n",
              "  0.17093812104102432,\n",
              "  0.174490787191213,\n",
              "  0.17299374522889654,\n",
              "  0.18192478865147052,\n",
              "  0.17462951202400856,\n",
              "  0.17922020997852087,\n",
              "  0.1796142765066276,\n",
              "  0.1826877262396738,\n",
              "  0.18777075010000005,\n",
              "  0.18346840208204876,\n",
              "  0.1970086062743018,\n",
              "  0.18806669142759508,\n",
              "  0.1903233932759613,\n",
              "  0.19583216294604872,\n",
              "  0.19639330067330352,\n",
              "  0.20132986824105803,\n",
              "  0.20801878847538804,\n",
              "  0.2039541925104956,\n",
              "  0.20660490235655257,\n",
              "  0.20892203974330592,\n",
              "  0.21319730877493404,\n",
              "  0.21294578668661415,\n",
              "  0.2191183473760676,\n",
              "  0.221072031840889,\n",
              "  0.21897574189680422,\n",
              "  0.216948768708441,\n",
              "  0.2238484639790323,\n",
              "  0.22601639867987897,\n",
              "  0.23373174339403502,\n",
              "  0.23961284939986136,\n",
              "  0.23370530586363747,\n",
              "  0.2335974313438249,\n",
              "  0.23495749711066796,\n",
              "  0.24313110482791025,\n",
              "  0.2420587317492011,\n",
              "  0.24515007504143674,\n",
              "  0.2474195949986396,\n",
              "  0.2585343167590909,\n",
              "  0.25187368894391693,\n",
              "  0.25179981489132885,\n",
              "  0.25855623991717586,\n",
              "  0.268864494602626,\n",
              "  0.2588586751537902,\n",
              "  0.26185708445196115,\n",
              "  0.26897940335090326,\n",
              "  0.26889035781263376,\n",
              "  0.2699148914732569,\n",
              "  0.27200137006118896,\n",
              "  0.2776528024169545,\n",
              "  0.27752674762078255,\n",
              "  0.28096606465285734,\n",
              "  0.28311297881285524,\n",
              "  0.28330940786224446,\n",
              "  0.2908757121510377,\n",
              "  0.28785354821749043,\n",
              "  0.2888538448621403,\n",
              "  0.2913846662020741,\n",
              "  0.2949848702439004,\n",
              "  0.2942925748867593,\n",
              "  0.2928873428864802,\n",
              "  0.29772146910450586,\n",
              "  0.3019798242420681,\n",
              "  0.31143544314264887,\n",
              "  0.3042544453568472,\n",
              "  0.310564943167572,\n",
              "  0.31658175310525216,\n",
              "  0.31005838794064283,\n",
              "  0.3164343702110471]}"
            ]
          },
          "metadata": {
            "tags": []
          },
          "execution_count": 98
        }
      ]
    },
    {
      "cell_type": "code",
      "metadata": {
        "id": "zpvTD_ZEfWge",
        "colab_type": "code",
        "colab": {}
      },
      "source": [
        "acc_train = history.history['acc']"
      ],
      "execution_count": 0,
      "outputs": []
    },
    {
      "cell_type": "code",
      "metadata": {
        "id": "KcDL5U3-ft9s",
        "colab_type": "code",
        "outputId": "ef57c9de-fdf6-446e-a235-902d7e8a756c",
        "colab": {
          "base_uri": "https://localhost:8080/",
          "height": 1717
        }
      },
      "source": [
        "acc_train"
      ],
      "execution_count": 0,
      "outputs": [
        {
          "output_type": "execute_result",
          "data": {
            "text/plain": [
              "[0.8720714285714286,\n",
              " 0.9268333333333333,\n",
              " 0.9401666666666667,\n",
              " 0.9477380952380953,\n",
              " 0.954047619047619,\n",
              " 0.957595238095238,\n",
              " 0.9615714285714285,\n",
              " 0.9645714285714285,\n",
              " 0.9667380952380953,\n",
              " 0.9688809523809524,\n",
              " 0.9708809523809524,\n",
              " 0.9722380952380952,\n",
              " 0.9743571428571428,\n",
              " 0.9752857142857143,\n",
              " 0.9765,\n",
              " 0.9784047619047619,\n",
              " 0.9788809523809524,\n",
              " 0.9797380952380952,\n",
              " 0.9802380952380952,\n",
              " 0.9813809523809524,\n",
              " 0.9823809523809524,\n",
              " 0.9828809523809524,\n",
              " 0.9833571428571428,\n",
              " 0.983904761904762,\n",
              " 0.984904761904762,\n",
              " 0.9853809523809524,\n",
              " 0.9859761904761905,\n",
              " 0.986452380952381,\n",
              " 0.986904761904762,\n",
              " 0.9873571428571428,\n",
              " 0.9879285714285714,\n",
              " 0.9878095238095238,\n",
              " 0.9889761904761905,\n",
              " 0.9886904761904762,\n",
              " 0.989452380952381,\n",
              " 0.9899285714285714,\n",
              " 0.9902142857142857,\n",
              " 0.9905714285714285,\n",
              " 0.9907142857142858,\n",
              " 0.9907857142857143,\n",
              " 0.9912619047619048,\n",
              " 0.9916190476190476,\n",
              " 0.9916190476190476,\n",
              " 0.992547619047619,\n",
              " 0.9923571428571428,\n",
              " 0.992904761904762,\n",
              " 0.9929761904761905,\n",
              " 0.9931190476190476,\n",
              " 0.9934761904761905,\n",
              " 0.9933571428571428,\n",
              " 0.9938095238095238,\n",
              " 0.993904761904762,\n",
              " 0.9942380952380953,\n",
              " 0.9946428571428572,\n",
              " 0.9942857142857143,\n",
              " 0.9954047619047619,\n",
              " 0.9947380952380952,\n",
              " 0.9952619047619048,\n",
              " 0.9952142857142857,\n",
              " 0.9952857142857143,\n",
              " 0.9956428571428572,\n",
              " 0.9953095238095238,\n",
              " 0.9959761904761905,\n",
              " 0.9961428571428571,\n",
              " 0.9960714285714286,\n",
              " 0.9964761904761905,\n",
              " 0.9963333333333333,\n",
              " 0.9966666666666667,\n",
              " 0.9968571428571429,\n",
              " 0.996547619047619,\n",
              " 0.9971428571428571,\n",
              " 0.9972142857142857,\n",
              " 0.9968095238095238,\n",
              " 0.9971428571428571,\n",
              " 0.9972857142857143,\n",
              " 0.9972619047619048,\n",
              " 0.9975714285714286,\n",
              " 0.9977619047619047,\n",
              " 0.9975952380952381,\n",
              " 0.9979523809523809,\n",
              " 0.9978809523809524,\n",
              " 0.9979285714285714,\n",
              " 0.9980952380952381,\n",
              " 0.9983333333333333,\n",
              " 0.9982619047619048,\n",
              " 0.9983333333333333,\n",
              " 0.9986666666666667,\n",
              " 0.9983333333333333,\n",
              " 0.9983809523809524,\n",
              " 0.9984047619047619,\n",
              " 0.9986190476190476,\n",
              " 0.9987380952380952,\n",
              " 0.9986190476190476,\n",
              " 0.9986190476190476,\n",
              " 0.9987619047619047,\n",
              " 0.9988095238095238,\n",
              " 0.9988571428571429,\n",
              " 0.9991428571428571,\n",
              " 0.9991428571428571,\n",
              " 0.9989761904761905]"
            ]
          },
          "metadata": {
            "tags": []
          },
          "execution_count": 100
        }
      ]
    },
    {
      "cell_type": "code",
      "metadata": {
        "id": "VbBQVVNbeYS1",
        "colab_type": "code",
        "colab": {}
      },
      "source": [
        "val_acc_train = history.history['val_acc']"
      ],
      "execution_count": 0,
      "outputs": []
    },
    {
      "cell_type": "code",
      "metadata": {
        "id": "xaLEUCHVfzWR",
        "colab_type": "code",
        "outputId": "d0630d51-3aad-4cf6-a044-570355b86688",
        "colab": {
          "base_uri": "https://localhost:8080/",
          "height": 34
        }
      },
      "source": [
        "len(val_acc_train)"
      ],
      "execution_count": 0,
      "outputs": [
        {
          "output_type": "execute_result",
          "data": {
            "text/plain": [
              "100"
            ]
          },
          "metadata": {
            "tags": []
          },
          "execution_count": 102
        }
      ]
    },
    {
      "cell_type": "code",
      "metadata": {
        "id": "V8-ctQdIe0Sm",
        "colab_type": "code",
        "outputId": "7d5f54c3-bcbf-42ae-f51f-3c4f037b5d38",
        "colab": {
          "base_uri": "https://localhost:8080/",
          "height": 286
        }
      },
      "source": [
        "plt.figure()\n",
        "plt.plot(range(1, 101),acc_train)\n",
        "plt.plot(range(1,101),val_acc_train)"
      ],
      "execution_count": 0,
      "outputs": [
        {
          "output_type": "execute_result",
          "data": {
            "text/plain": [
              "[<matplotlib.lines.Line2D at 0x7fea2e966780>]"
            ]
          },
          "metadata": {
            "tags": []
          },
          "execution_count": 105
        },
        {
          "output_type": "display_data",
          "data": {
            "image/png": "[encoded data removed]",
            "text/plain": [
              "<Figure size 432x288 with 1 Axes>"
            ]
          },
          "metadata": {
            "tags": []
          }
        }
      ]
    },
    {
      "cell_type": "markdown",
      "metadata": {
        "id": "tFy_Qxnyjg1k",
        "colab_type": "text"
      },
      "source": [
        ""
      ]
    },
    {
      "cell_type": "code",
      "metadata": {
        "id": "evy084mmfUd6",
        "colab_type": "code",
        "outputId": "bcd61e5a-deaa-430c-c008-7c1db5ac4856",
        "colab": {
          "base_uri": "https://localhost:8080/",
          "height": 34
        }
      },
      "source": [
        "len(model.get_weights())\n",
        "#model.save(\"model.h5\")"
      ],
      "execution_count": 0,
      "outputs": [
        {
          "output_type": "execute_result",
          "data": {
            "text/plain": [
              "4"
            ]
          },
          "metadata": {
            "tags": []
          },
          "execution_count": 108
        }
      ]
    },
    {
      "cell_type": "code",
      "metadata": {
        "id": "h5pECtJ8knml",
        "colab_type": "code",
        "colab": {}
      },
      "source": [
        "model.save(\"franck_model.h5\")"
      ],
      "execution_count": 0,
      "outputs": []
    },
    {
      "cell_type": "code",
      "metadata": {
        "id": "PIoR_eAplmt8",
        "colab_type": "code",
        "outputId": "9c40bf64-8ff4-4d06-9bf7-ef4205165da6",
        "colab": {
          "base_uri": "https://localhost:8080/",
          "height": 34
        }
      },
      "source": [
        "!pwd"
      ],
      "execution_count": 0,
      "outputs": [
        {
          "output_type": "stream",
          "text": [
            "/content\n"
          ],
          "name": "stdout"
        }
      ]
    },
    {
      "cell_type": "code",
      "metadata": {
        "id": "HaFaElhSpQBV",
        "colab_type": "code",
        "outputId": "4d63e70b-0c7c-4e58-bd03-788fcff1b795",
        "colab": {
          "base_uri": "https://localhost:8080/",
          "height": 1037
        }
      },
      "source": [
        "predict_data = model.predict(X_test[:20])\n",
        "predict_data"
      ],
      "execution_count": 0,
      "outputs": [
        {
          "output_type": "execute_result",
          "data": {
            "text/plain": [
              "array([[3.00083569e-18, 1.87646580e-24, 1.69443944e-14, 2.87823359e-11,\n",
              "        1.59866687e-37, 3.66107780e-20, 1.73059576e-38, 1.00000000e+00,\n",
              "        1.10021246e-18, 1.00626323e-17],\n",
              "       [2.79547349e-12, 1.89541290e-19, 1.00000000e+00, 7.33433390e-20,\n",
              "        0.00000000e+00, 3.79686604e-21, 2.37639086e-20, 0.00000000e+00,\n",
              "        5.67001775e-21, 0.00000000e+00],\n",
              "       [5.09694373e-19, 1.00000000e+00, 6.20013096e-10, 8.74732231e-10,\n",
              "        2.43786687e-14, 1.59559325e-18, 3.71152185e-14, 9.41357214e-09,\n",
              "        4.11128076e-11, 2.06940208e-17],\n",
              "       [1.00000000e+00, 0.00000000e+00, 7.83179153e-19, 2.56609096e-21,\n",
              "        1.42606567e-23, 5.53551625e-24, 2.40361360e-13, 3.74403088e-17,\n",
              "        1.93463231e-20, 2.79857977e-11],\n",
              "       [1.23913087e-12, 0.00000000e+00, 1.10689944e-14, 2.34887890e-24,\n",
              "        9.99934912e-01, 2.29499479e-22, 8.38968092e-15, 4.37071603e-13,\n",
              "        1.91324943e-16, 6.51252267e-05],\n",
              "       [5.90198012e-22, 9.99999881e-01, 1.05531293e-14, 2.06003207e-14,\n",
              "        9.78507314e-13, 2.84783756e-27, 4.02867558e-20, 1.19851563e-07,\n",
              "        2.76914857e-14, 5.42656042e-18],\n",
              "       [5.50347177e-31, 0.00000000e+00, 1.05262038e-27, 7.05595256e-25,\n",
              "        1.00000000e+00, 3.70791664e-16, 1.25315133e-32, 2.67262824e-16,\n",
              "        7.89900048e-19, 1.69109941e-12],\n",
              "       [1.26984656e-29, 1.62374336e-14, 3.07915522e-18, 1.29131958e-08,\n",
              "        4.25116440e-08, 1.68857184e-09, 3.82608287e-25, 4.90043765e-16,\n",
              "        1.86516274e-15, 1.00000000e+00],\n",
              "       [1.30399682e-33, 0.00000000e+00, 1.65953399e-28, 9.49506634e-29,\n",
              "        7.56638094e-27, 2.66946945e-03, 9.97330546e-01, 9.92321392e-31,\n",
              "        3.74015980e-28, 2.08833580e-15],\n",
              "       [1.78847448e-24, 0.00000000e+00, 1.13804871e-29, 5.78756121e-22,\n",
              "        1.46892969e-13, 4.04674281e-28, 0.00000000e+00, 2.35656601e-13,\n",
              "        2.40712669e-14, 1.00000000e+00],\n",
              "       [1.00000000e+00, 0.00000000e+00, 5.06622036e-11, 2.14697339e-34,\n",
              "        4.10707165e-34, 6.55695860e-24, 1.63909595e-22, 9.95152803e-22,\n",
              "        5.57563866e-30, 3.57050469e-19],\n",
              "       [1.48338015e-19, 0.00000000e+00, 9.40637325e-13, 5.05370758e-28,\n",
              "        1.23707587e-21, 2.07022471e-23, 1.00000000e+00, 1.02439213e-34,\n",
              "        1.40156908e-09, 5.51263310e-31],\n",
              "       [6.68407454e-21, 1.69818847e-34, 1.75004970e-20, 5.58141044e-13,\n",
              "        1.39063338e-12, 1.12356284e-15, 1.85654621e-29, 1.51932961e-17,\n",
              "        1.05685953e-15, 1.00000000e+00],\n",
              "       [1.00000000e+00, 0.00000000e+00, 1.28113270e-17, 1.24284335e-26,\n",
              "        4.14351933e-18, 6.13166628e-20, 3.29508357e-17, 9.39681940e-16,\n",
              "        4.93210576e-19, 1.21458426e-13],\n",
              "       [7.45765242e-35, 1.00000000e+00, 7.50744293e-17, 2.94477692e-10,\n",
              "        3.17714356e-16, 4.08970167e-19, 7.66737996e-17, 1.73159149e-13,\n",
              "        3.94472788e-10, 1.13332352e-19],\n",
              "       [8.31511834e-13, 1.21316552e-27, 8.88491754e-14, 8.93279477e-08,\n",
              "        7.69677808e-19, 9.99425888e-01, 5.25911640e-16, 1.20272368e-20,\n",
              "        5.74034988e-04, 5.39513330e-11],\n",
              "       [1.30762129e-11, 0.00000000e+00, 4.40545739e-10, 1.54612090e-15,\n",
              "        1.33519018e-08, 1.00482562e-23, 1.09514366e-22, 5.04914777e-10,\n",
              "        3.11962622e-10, 1.00000000e+00],\n",
              "       [2.36178223e-16, 0.00000000e+00, 4.04024234e-16, 2.28136932e-15,\n",
              "        5.00750216e-34, 4.42698781e-25, 0.00000000e+00, 1.00000000e+00,\n",
              "        1.11450318e-25, 6.97122621e-16],\n",
              "       [8.63851127e-24, 9.42334504e-24, 7.00831349e-09, 1.00000000e+00,\n",
              "        1.34828262e-31, 1.02750519e-08, 1.60421827e-24, 6.65677475e-20,\n",
              "        9.30243590e-11, 8.93971903e-34],\n",
              "       [2.36327491e-19, 4.59121592e-27, 1.27501461e-16, 1.10923335e-21,\n",
              "        1.00000000e+00, 5.66478567e-21, 1.41340012e-20, 3.63680792e-13,\n",
              "        1.73461289e-13, 2.94946034e-13]], dtype=float32)"
            ]
          },
          "metadata": {
            "tags": []
          },
          "execution_count": 115
        }
      ]
    },
    {
      "cell_type": "code",
      "metadata": {
        "id": "E8WHBZfbpXkR",
        "colab_type": "code",
        "outputId": "2f3077de-25bd-4d87-e28d-ade5fe77f641",
        "colab": {
          "base_uri": "https://localhost:8080/",
          "height": 34
        }
      },
      "source": [
        "np.sum(predict_data[0])"
      ],
      "execution_count": 0,
      "outputs": [
        {
          "output_type": "execute_result",
          "data": {
            "text/plain": [
              "1.0"
            ]
          },
          "metadata": {
            "tags": []
          },
          "execution_count": 117
        }
      ]
    },
    {
      "cell_type": "code",
      "metadata": {
        "id": "C5efh3UCplIw",
        "colab_type": "code",
        "colab": {}
      },
      "source": [
        ""
      ],
      "execution_count": 0,
      "outputs": []
    }
  ]
}